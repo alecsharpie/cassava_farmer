{
 "cells": [
  {
   "cell_type": "code",
   "execution_count": 1,
   "id": "74e38df3",
   "metadata": {},
   "outputs": [],
   "source": [
    "import requests"
   ]
  },
  {
   "cell_type": "code",
   "execution_count": null,
   "id": "3847a4f5",
   "metadata": {},
   "outputs": [],
   "source": [
    "png = st.file_uploader(\"Upload a breast cancer histology image\", type=([\".png\"]))\n",
    "\n",
    "\n",
    "if png:\n",
    "    # save png\n",
    "    myuuid = uuid.uuid4()\n",
    "    IMG1 = f\"{myuuid}.png\"\n",
    "\n",
    "    # url = \"http://127.0.0.1:8000/annotate\"  # local\n",
    "    url = \"https://idc-mvds5dflqq-ew.a.run.app/annotate\"  # production\n",
    "    files = {\"file\": (png.name, png, \"multipart/form-data\")}\n",
    "    response = requests.post(url, files=files).json()"
   ]
  },
  {
   "cell_type": "code",
   "execution_count": null,
   "id": "5eade0d6",
   "metadata": {},
   "outputs": [],
   "source": [
    "# url = \"http://127.0.0.1:8000/annotate\"  # local\n",
    "url = \"https://idc-mvds5dflqq-ew.a.run.app/annotate\"  # production\n",
    "files = {\"file\": (png.name, png, \"multipart/form-data\")}\n",
    "response = requests.post(url, files=files).json()"
   ]
  }
 ],
 "metadata": {
  "kernelspec": {
   "display_name": "Python 3 (ipykernel)",
   "language": "python",
   "name": "python3"
  },
  "language_info": {
   "codemirror_mode": {
    "name": "ipython",
    "version": 3
   },
   "file_extension": ".py",
   "mimetype": "text/x-python",
   "name": "python",
   "nbconvert_exporter": "python",
   "pygments_lexer": "ipython3",
   "version": "3.8.6"
  }
 },
 "nbformat": 4,
 "nbformat_minor": 5
}
