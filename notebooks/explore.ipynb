{
 "cells": [
  {
   "cell_type": "code",
   "execution_count": 36,
   "id": "bc99aac7",
   "metadata": {
    "collapsed": true
   },
   "outputs": [
    {
     "name": "stdout",
     "output_type": "stream",
     "text": [
      "Requirement already satisfied: tensorflow in /Users/alecsharp/.pyenv/versions/3.8.6/envs/lewagon/lib/python3.8/site-packages (2.7.0)\n",
      "Requirement already satisfied: six>=1.12.0 in /Users/alecsharp/.pyenv/versions/3.8.6/envs/lewagon/lib/python3.8/site-packages (from tensorflow) (1.15.0)\n",
      "Requirement already satisfied: h5py>=2.9.0 in /Users/alecsharp/.pyenv/versions/3.8.6/envs/lewagon/lib/python3.8/site-packages (from tensorflow) (3.1.0)\n",
      "Requirement already satisfied: protobuf>=3.9.2 in /Users/alecsharp/.pyenv/versions/3.8.6/envs/lewagon/lib/python3.8/site-packages (from tensorflow) (3.17.3)\n",
      "Requirement already satisfied: libclang>=9.0.1 in /Users/alecsharp/.pyenv/versions/3.8.6/envs/lewagon/lib/python3.8/site-packages (from tensorflow) (12.0.0)\n",
      "Requirement already satisfied: tensorboard~=2.6 in /Users/alecsharp/.pyenv/versions/3.8.6/envs/lewagon/lib/python3.8/site-packages (from tensorflow) (2.7.0)\n",
      "Requirement already satisfied: termcolor>=1.1.0 in /Users/alecsharp/.pyenv/versions/3.8.6/envs/lewagon/lib/python3.8/site-packages (from tensorflow) (1.1.0)\n",
      "Requirement already satisfied: gast<0.5.0,>=0.2.1 in /Users/alecsharp/.pyenv/versions/3.8.6/envs/lewagon/lib/python3.8/site-packages (from tensorflow) (0.4.0)\n",
      "Requirement already satisfied: opt-einsum>=2.3.2 in /Users/alecsharp/.pyenv/versions/3.8.6/envs/lewagon/lib/python3.8/site-packages (from tensorflow) (3.3.0)\n",
      "Requirement already satisfied: wrapt>=1.11.0 in /Users/alecsharp/.pyenv/versions/3.8.6/envs/lewagon/lib/python3.8/site-packages (from tensorflow) (1.12.1)\n",
      "Requirement already satisfied: typing-extensions>=3.6.6 in /Users/alecsharp/.pyenv/versions/3.8.6/envs/lewagon/lib/python3.8/site-packages (from tensorflow) (3.10.0.2)\n",
      "Requirement already satisfied: google-pasta>=0.1.1 in /Users/alecsharp/.pyenv/versions/3.8.6/envs/lewagon/lib/python3.8/site-packages (from tensorflow) (0.2.0)\n",
      "Requirement already satisfied: astunparse>=1.6.0 in /Users/alecsharp/.pyenv/versions/3.8.6/envs/lewagon/lib/python3.8/site-packages (from tensorflow) (1.6.3)\n",
      "Requirement already satisfied: tensorflow-estimator<2.8,~=2.7.0rc0 in /Users/alecsharp/.pyenv/versions/3.8.6/envs/lewagon/lib/python3.8/site-packages (from tensorflow) (2.7.0)\n",
      "Requirement already satisfied: keras<2.8,>=2.7.0rc0 in /Users/alecsharp/.pyenv/versions/3.8.6/envs/lewagon/lib/python3.8/site-packages (from tensorflow) (2.7.0)\n",
      "Requirement already satisfied: wheel<1.0,>=0.32.0 in /Users/alecsharp/.pyenv/versions/3.8.6/envs/lewagon/lib/python3.8/site-packages (from tensorflow) (0.36.2)\n",
      "Requirement already satisfied: keras-preprocessing>=1.1.1 in /Users/alecsharp/.pyenv/versions/3.8.6/envs/lewagon/lib/python3.8/site-packages (from tensorflow) (1.1.2)\n",
      "Requirement already satisfied: grpcio<2.0,>=1.24.3 in /Users/alecsharp/.pyenv/versions/3.8.6/envs/lewagon/lib/python3.8/site-packages (from tensorflow) (1.34.1)\n",
      "Requirement already satisfied: numpy>=1.14.5 in /Users/alecsharp/.pyenv/versions/3.8.6/envs/lewagon/lib/python3.8/site-packages (from tensorflow) (1.19.2)\n",
      "Requirement already satisfied: absl-py>=0.4.0 in /Users/alecsharp/.pyenv/versions/3.8.6/envs/lewagon/lib/python3.8/site-packages (from tensorflow) (0.12.0)\n",
      "Requirement already satisfied: tensorflow-io-gcs-filesystem>=0.21.0 in /Users/alecsharp/.pyenv/versions/3.8.6/envs/lewagon/lib/python3.8/site-packages (from tensorflow) (0.22.0)\n",
      "Requirement already satisfied: flatbuffers<3.0,>=1.12 in /Users/alecsharp/.pyenv/versions/3.8.6/envs/lewagon/lib/python3.8/site-packages (from tensorflow) (1.12)\n",
      "Requirement already satisfied: setuptools>=41.0.0 in /Users/alecsharp/.pyenv/versions/3.8.6/envs/lewagon/lib/python3.8/site-packages (from tensorboard~=2.6->tensorflow) (49.2.1)\n",
      "Requirement already satisfied: werkzeug>=0.11.15 in /Users/alecsharp/.pyenv/versions/3.8.6/envs/lewagon/lib/python3.8/site-packages (from tensorboard~=2.6->tensorflow) (2.0.1)\n",
      "Requirement already satisfied: google-auth-oauthlib<0.5,>=0.4.1 in /Users/alecsharp/.pyenv/versions/3.8.6/envs/lewagon/lib/python3.8/site-packages (from tensorboard~=2.6->tensorflow) (0.4.4)\n",
      "Requirement already satisfied: requests<3,>=2.21.0 in /Users/alecsharp/.pyenv/versions/3.8.6/envs/lewagon/lib/python3.8/site-packages (from tensorboard~=2.6->tensorflow) (2.26.0)\n",
      "Requirement already satisfied: tensorboard-data-server<0.7.0,>=0.6.0 in /Users/alecsharp/.pyenv/versions/3.8.6/envs/lewagon/lib/python3.8/site-packages (from tensorboard~=2.6->tensorflow) (0.6.1)\n",
      "Requirement already satisfied: google-auth<3,>=1.6.3 in /Users/alecsharp/.pyenv/versions/3.8.6/envs/lewagon/lib/python3.8/site-packages (from tensorboard~=2.6->tensorflow) (1.33.0)\n",
      "Requirement already satisfied: markdown>=2.6.8 in /Users/alecsharp/.pyenv/versions/3.8.6/envs/lewagon/lib/python3.8/site-packages (from tensorboard~=2.6->tensorflow) (3.3.4)\n",
      "Requirement already satisfied: tensorboard-plugin-wit>=1.6.0 in /Users/alecsharp/.pyenv/versions/3.8.6/envs/lewagon/lib/python3.8/site-packages (from tensorboard~=2.6->tensorflow) (1.8.0)\n",
      "Requirement already satisfied: rsa<5,>=3.1.4 in /Users/alecsharp/.pyenv/versions/3.8.6/envs/lewagon/lib/python3.8/site-packages (from google-auth<3,>=1.6.3->tensorboard~=2.6->tensorflow) (4.7.2)\n",
      "Requirement already satisfied: cachetools<5.0,>=2.0.0 in /Users/alecsharp/.pyenv/versions/3.8.6/envs/lewagon/lib/python3.8/site-packages (from google-auth<3,>=1.6.3->tensorboard~=2.6->tensorflow) (4.2.2)\n",
      "Requirement already satisfied: pyasn1-modules>=0.2.1 in /Users/alecsharp/.pyenv/versions/3.8.6/envs/lewagon/lib/python3.8/site-packages (from google-auth<3,>=1.6.3->tensorboard~=2.6->tensorflow) (0.2.8)\n",
      "Requirement already satisfied: requests-oauthlib>=0.7.0 in /Users/alecsharp/.pyenv/versions/3.8.6/envs/lewagon/lib/python3.8/site-packages (from google-auth-oauthlib<0.5,>=0.4.1->tensorboard~=2.6->tensorflow) (1.3.0)\n",
      "Requirement already satisfied: idna<4,>=2.5 in /Users/alecsharp/.pyenv/versions/3.8.6/envs/lewagon/lib/python3.8/site-packages (from requests<3,>=2.21.0->tensorboard~=2.6->tensorflow) (3.2)\n",
      "Requirement already satisfied: certifi>=2017.4.17 in /Users/alecsharp/.pyenv/versions/3.8.6/envs/lewagon/lib/python3.8/site-packages (from requests<3,>=2.21.0->tensorboard~=2.6->tensorflow) (2021.5.30)\n",
      "Requirement already satisfied: urllib3<1.27,>=1.21.1 in /Users/alecsharp/.pyenv/versions/3.8.6/envs/lewagon/lib/python3.8/site-packages (from requests<3,>=2.21.0->tensorboard~=2.6->tensorflow) (1.26.6)\n",
      "Requirement already satisfied: charset-normalizer~=2.0.0 in /Users/alecsharp/.pyenv/versions/3.8.6/envs/lewagon/lib/python3.8/site-packages (from requests<3,>=2.21.0->tensorboard~=2.6->tensorflow) (2.0.3)\n",
      "Requirement already satisfied: pyasn1<0.5.0,>=0.4.6 in /Users/alecsharp/.pyenv/versions/3.8.6/envs/lewagon/lib/python3.8/site-packages (from pyasn1-modules>=0.2.1->google-auth<3,>=1.6.3->tensorboard~=2.6->tensorflow) (0.4.8)\n",
      "Requirement already satisfied: oauthlib>=3.0.0 in /Users/alecsharp/.pyenv/versions/3.8.6/envs/lewagon/lib/python3.8/site-packages (from requests-oauthlib>=0.7.0->google-auth-oauthlib<0.5,>=0.4.1->tensorboard~=2.6->tensorflow) (3.1.1)\n"
     ]
    }
   ],
   "source": [
    "!pip install -U tensorflow"
   ]
  },
  {
   "cell_type": "code",
   "execution_count": 54,
   "id": "df80904f",
   "metadata": {},
   "outputs": [],
   "source": [
    "import os\n",
    "import numpy as np\n",
    "import pandas as pd\n",
    "import matplotlib.pyplot as plt"
   ]
  },
  {
   "cell_type": "markdown",
   "id": "630aa19f",
   "metadata": {},
   "source": [
    "# organise data"
   ]
  },
  {
   "cell_type": "code",
   "execution_count": 59,
   "id": "fd663a82",
   "metadata": {},
   "outputs": [
    {
     "data": {
      "text/html": [
       "<div>\n",
       "<style scoped>\n",
       "    .dataframe tbody tr th:only-of-type {\n",
       "        vertical-align: middle;\n",
       "    }\n",
       "\n",
       "    .dataframe tbody tr th {\n",
       "        vertical-align: top;\n",
       "    }\n",
       "\n",
       "    .dataframe thead th {\n",
       "        text-align: right;\n",
       "    }\n",
       "</style>\n",
       "<table border=\"1\" class=\"dataframe\">\n",
       "  <thead>\n",
       "    <tr style=\"text-align: right;\">\n",
       "      <th></th>\n",
       "      <th>image_id</th>\n",
       "      <th>label</th>\n",
       "    </tr>\n",
       "  </thead>\n",
       "  <tbody>\n",
       "    <tr>\n",
       "      <th>0</th>\n",
       "      <td>1000015157.jpg</td>\n",
       "      <td>0</td>\n",
       "    </tr>\n",
       "    <tr>\n",
       "      <th>1</th>\n",
       "      <td>1000201771.jpg</td>\n",
       "      <td>3</td>\n",
       "    </tr>\n",
       "    <tr>\n",
       "      <th>2</th>\n",
       "      <td>100042118.jpg</td>\n",
       "      <td>1</td>\n",
       "    </tr>\n",
       "    <tr>\n",
       "      <th>3</th>\n",
       "      <td>1000723321.jpg</td>\n",
       "      <td>1</td>\n",
       "    </tr>\n",
       "    <tr>\n",
       "      <th>4</th>\n",
       "      <td>1000812911.jpg</td>\n",
       "      <td>3</td>\n",
       "    </tr>\n",
       "  </tbody>\n",
       "</table>\n",
       "</div>"
      ],
      "text/plain": [
       "         image_id  label\n",
       "0  1000015157.jpg      0\n",
       "1  1000201771.jpg      3\n",
       "2   100042118.jpg      1\n",
       "3  1000723321.jpg      1\n",
       "4  1000812911.jpg      3"
      ]
     },
     "execution_count": 59,
     "metadata": {},
     "output_type": "execute_result"
    }
   ],
   "source": [
    "df = pd.read_csv('../raw_data/cassava-leaf-disease-classification/train.csv')\n",
    "df.head()"
   ]
  },
  {
   "cell_type": "code",
   "execution_count": 60,
   "id": "ff3e66b2",
   "metadata": {},
   "outputs": [
    {
     "data": {
      "text/plain": [
       "array([0, 3, 1, 2, 4])"
      ]
     },
     "execution_count": 60,
     "metadata": {},
     "output_type": "execute_result"
    }
   ],
   "source": [
    "df.label.unique()"
   ]
  },
  {
   "cell_type": "code",
   "execution_count": null,
   "id": "094d1326",
   "metadata": {},
   "outputs": [],
   "source": []
  },
  {
   "cell_type": "code",
   "execution_count": 61,
   "id": "2f8f0565",
   "metadata": {},
   "outputs": [
    {
     "data": {
      "text/plain": [
       "{'0': 'Cassava Bacterial Blight (CBB)',\n",
       " '1': 'Cassava Brown Streak Disease (CBSD)',\n",
       " '2': 'Cassava Green Mottle (CGM)',\n",
       " '3': 'Cassava Mosaic Disease (CMD)',\n",
       " '4': 'Healthy'}"
      ]
     },
     "execution_count": 61,
     "metadata": {},
     "output_type": "execute_result"
    }
   ],
   "source": [
    "import json\n",
    "label_map = json.load(open('../raw_data/cassava-leaf-disease-classification/label_num_to_disease_map.json'))\n",
    "label_map\n"
   ]
  },
  {
   "cell_type": "code",
   "execution_count": 68,
   "id": "3ed259a0",
   "metadata": {},
   "outputs": [],
   "source": [
    "label_map = {'0': 'cassava_bacterial_blight',\n",
    " '1': 'cassava_brown_streak_disease',\n",
    " '2': 'cassava_green_mottle',\n",
    " '3': 'cassava_mosaic_disease',\n",
    " '4': 'healthy'}"
   ]
  },
  {
   "cell_type": "code",
   "execution_count": 69,
   "id": "0a333d0b",
   "metadata": {},
   "outputs": [],
   "source": [
    "df['label_text'] = df.label.astype(str).map(label_map)"
   ]
  },
  {
   "cell_type": "code",
   "execution_count": 72,
   "id": "f6af111a",
   "metadata": {},
   "outputs": [],
   "source": [
    "# run once to reorganise images into folders of their class\n",
    "# create new folders\n",
    "#for label in label_map.values():\n",
    "#    os.mkdir(f'../raw_data/cassava-leaf-disease-classification/train_images/{label}')\n",
    "\n",
    "# for idx, row in df.iterrows():\n",
    "\n",
    "#     old_path = f\"../raw_data/cassava-leaf-disease-classification/train_images/{row['image_id']}\"\n",
    "#     new_path = f\"../raw_data/cassava-leaf-disease-classification/train_images/{row['label_text']}/{row['image_id']}\"\n",
    "    \n",
    "#     os.rename(old_path, new_path)"
   ]
  },
  {
   "cell_type": "markdown",
   "id": "98f5056f",
   "metadata": {},
   "source": [
    "# Get Data"
   ]
  },
  {
   "cell_type": "code",
   "execution_count": 40,
   "id": "0585c677",
   "metadata": {},
   "outputs": [],
   "source": [
    "labels_list = df.sort_values('image_id').label.values.tolist()\n"
   ]
  },
  {
   "cell_type": "code",
   "execution_count": 80,
   "id": "9e428312",
   "metadata": {},
   "outputs": [
    {
     "name": "stdout",
     "output_type": "stream",
     "text": [
      "Found 21397 files belonging to 5 classes.\n"
     ]
    }
   ],
   "source": [
    "#'/Users/alecsharp/me/cassava_farmer/raw_data/cassava-leaf-disease-classification/train_images'\n",
    "\n",
    "train_path = '../raw_data/cassava-leaf-disease-classification/train_images'\n",
    "\n",
    "from tensorflow.keras.utils import image_dataset_from_directory\n",
    "\n",
    "ds = image_dataset_from_directory(\n",
    "    train_path, batch_size=32\n",
    ")"
   ]
  },
  {
   "cell_type": "code",
   "execution_count": null,
   "id": "218a3c1b",
   "metadata": {},
   "outputs": [],
   "source": []
  }
 ],
 "metadata": {
  "kernelspec": {
   "display_name": "Python 3 (ipykernel)",
   "language": "python",
   "name": "python3"
  },
  "language_info": {
   "codemirror_mode": {
    "name": "ipython",
    "version": 3
   },
   "file_extension": ".py",
   "mimetype": "text/x-python",
   "name": "python",
   "nbconvert_exporter": "python",
   "pygments_lexer": "ipython3",
   "version": "3.8.6"
  }
 },
 "nbformat": 4,
 "nbformat_minor": 5
}
