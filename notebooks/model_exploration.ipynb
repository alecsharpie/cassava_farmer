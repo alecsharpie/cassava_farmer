{
 "cells": [
  {
   "cell_type": "code",
   "execution_count": 2,
   "id": "212b01f0",
   "metadata": {},
   "outputs": [],
   "source": [
    "import os\n",
    "import numpy as np\n",
    "import pandas as pd\n",
    "\n",
    "df = pd.read_csv('../raw_data/plant-pathology-2021-fgvc8/train.csv')\n",
    "df.head()\n",
    "\n",
    "df.labels.unique()\n",
    "\n",
    "import matplotlib as \n",
    "\n",
    "train_path = '../raw_data/plant-pathology-2021-fgvc8/train_images'\n",
    "\n",
    "from tensorflow.keras.utils import image_dataset_from_directory\n",
    "\n",
    "ds = image_dataset_from_directory(\n",
    "    train_path, labels=ohe, label_mode='categorical', batch_size=32\n",
    ")"
   ]
  }
 ],
 "metadata": {
  "kernelspec": {
   "display_name": "Python 3 (ipykernel)",
   "language": "python",
   "name": "python3"
  },
  "language_info": {
   "codemirror_mode": {
    "name": "ipython",
    "version": 3
   },
   "file_extension": ".py",
   "mimetype": "text/x-python",
   "name": "python",
   "nbconvert_exporter": "python",
   "pygments_lexer": "ipython3",
   "version": "3.8.6"
  }
 },
 "nbformat": 4,
 "nbformat_minor": 5
}
