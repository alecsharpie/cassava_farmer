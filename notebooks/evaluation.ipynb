{
 "cells": [
  {
   "cell_type": "code",
   "execution_count": 10,
   "id": "b006c090",
   "metadata": {},
   "outputs": [
    {
     "name": "stdout",
     "output_type": "stream",
     "text": [
      "tensorflow==2.8.0\r\n",
      "tensorflow-io-gcs-filesystem==0.24.0\r\n"
     ]
    }
   ],
   "source": [
    "!pip freeze | grep tensorflow"
   ]
  },
  {
   "cell_type": "code",
   "execution_count": 3,
   "id": "75b13ec0",
   "metadata": {},
   "outputs": [
    {
     "name": "stdout",
     "output_type": "stream",
     "text": [
      "  3.8.6/envs/cassava (created from /Users/alecsharp/.pyenv/versions/lewagon)\n",
      "* cassava (created from /Users/alecsharp/.pyenv/versions/lewagon)\n"
     ]
    }
   ],
   "source": [
    "!pyenv virtualenvs | grep cassava"
   ]
  },
  {
   "cell_type": "code",
   "execution_count": 3,
   "id": "60ac92e7",
   "metadata": {},
   "outputs": [],
   "source": [
    "from tensorflow.keras.utils import image_dataset_from_directory"
   ]
  },
  {
   "cell_type": "code",
   "execution_count": null,
   "id": "c813b877",
   "metadata": {},
   "outputs": [],
   "source": [
    "test_ds = image_dataset_from_directory(\n",
    "        path,\n",
    "        image_size=(512, 512),\n",
    "        shuffle = True\n",
    "    )"
   ]
  },
  {
   "cell_type": "code",
   "execution_count": 4,
   "id": "9faea37d",
   "metadata": {},
   "outputs": [],
   "source": [
    "import os\n",
    "train_path = '../raw_data/cassava-leaf-disease-classification/train_images'"
   ]
  },
  {
   "cell_type": "code",
   "execution_count": 7,
   "id": "5073992a",
   "metadata": {},
   "outputs": [
    {
     "name": "stdout",
     "output_type": "stream",
     "text": [
      "Found 21397 files belonging to 5 classes.\n",
      "Using 4279 files for validation.\n"
     ]
    }
   ],
   "source": [
    "val_ds = image_dataset_from_directory(train_path,\n",
    "                                          batch_size=32,\n",
    "                                          subset='validation',\n",
    "                                          validation_split=.20,\n",
    "                                          seed=12,\n",
    "                                          image_size=(512, 512),\n",
    "                                          shuffle = True)"
   ]
  },
  {
   "cell_type": "code",
   "execution_count": null,
   "id": "504d790c",
   "metadata": {},
   "outputs": [],
   "source": [
    "#load model \n",
    "#predict\n",
    "#evaluate"
   ]
  }
 ],
 "metadata": {
  "kernelspec": {
   "display_name": "Python 3 (ipykernel)",
   "language": "python",
   "name": "python3"
  },
  "language_info": {
   "codemirror_mode": {
    "name": "ipython",
    "version": 3
   },
   "file_extension": ".py",
   "mimetype": "text/x-python",
   "name": "python",
   "nbconvert_exporter": "python",
   "pygments_lexer": "ipython3",
   "version": "3.8.6"
  }
 },
 "nbformat": 4,
 "nbformat_minor": 5
}
