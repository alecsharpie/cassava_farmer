{
 "cells": [
  {
   "cell_type": "code",
   "execution_count": 10,
   "id": "b006c090",
   "metadata": {},
   "outputs": [
    {
     "name": "stdout",
     "output_type": "stream",
     "text": [
      "tensorflow==2.8.0\r\n",
      "tensorflow-io-gcs-filesystem==0.24.0\r\n"
     ]
    }
   ],
   "source": [
    "!pip freeze | grep tensorflow"
   ]
  },
  {
   "cell_type": "code",
   "execution_count": 3,
   "id": "75b13ec0",
   "metadata": {},
   "outputs": [
    {
     "name": "stdout",
     "output_type": "stream",
     "text": [
      "  3.8.6/envs/cassava (created from /Users/alecsharp/.pyenv/versions/lewagon)\n",
      "* cassava (created from /Users/alecsharp/.pyenv/versions/lewagon)\n"
     ]
    }
   ],
   "source": [
    "!pyenv virtualenvs | grep cassava"
   ]
  },
  {
   "cell_type": "code",
   "execution_count": 3,
   "id": "60ac92e7",
   "metadata": {},
   "outputs": [],
   "source": [
    "from tensorflow.keras.utils import image_dataset_from_directory"
   ]
  },
  {
   "cell_type": "code",
   "execution_count": null,
   "id": "25b2330e",
   "metadata": {},
   "outputs": [],
   "source": [
    "test_ds = image_dataset_from_directory(\n",
    "        path,\n",
    "        image_size=(512, 512),\n",
    "        shuffle = True\n",
    "    )"
   ]
  },
  {
   "cell_type": "code",
   "execution_count": 4,
   "id": "d1436719",
   "metadata": {},
   "outputs": [],
   "source": [
    "import os\n",
    "train_path = '../raw_data/cassava-leaf-disease-classification/train_images'"
   ]
  },
  {
   "cell_type": "code",
   "execution_count": 7,
   "id": "c5e8a987",
   "metadata": {},
   "outputs": [
    {
     "name": "stdout",
     "output_type": "stream",
     "text": [
      "Found 21397 files belonging to 5 classes.\n",
      "Using 4279 files for validation.\n"
     ]
    }
   ],
   "source": [
    "val_ds = image_dataset_from_directory(train_path,\n",
    "                                          batch_size=32,\n",
    "                                          subset='validation',\n",
    "                                          validation_split=.20,\n",
    "                                          seed=12,\n",
    "                                          image_size=(512, 512),\n",
    "                                          shuffle = True)"
   ]
  },
  {
   "cell_type": "code",
   "execution_count": null,
   "id": "68ee2292",
   "metadata": {},
   "outputs": [],
   "source": [
    "#load model \n",
    "#predict\n",
    "#evaluate"
   ]
  },
  {
   "cell_type": "code",
   "execution_count": 23,
   "id": "23124df9",
   "metadata": {},
   "outputs": [
    {
     "name": "stdout",
     "output_type": "stream",
     "text": [
      "(32, 5) [[0.00816948 0.01646689 0.00852636 0.9507653  0.01607193]\n",
      " [0.03476623 0.01385942 0.03751004 0.01798626 0.8958781 ]\n",
      " [0.04474026 0.46128744 0.03167753 0.390565   0.07172977]\n",
      " [0.00691999 0.02497359 0.8892158  0.0216806  0.05720999]\n",
      " [0.02804268 0.01787347 0.00451957 0.9258046  0.02375966]\n",
      " [0.02777846 0.5496316  0.01464395 0.38672572 0.02122027]\n",
      " [0.06305219 0.02492466 0.03267713 0.02226405 0.857082  ]\n",
      " [0.00871047 0.03820745 0.2011274  0.72748417 0.02447059]\n",
      " [0.00896676 0.01435765 0.01110672 0.95165676 0.01391202]\n",
      " [0.00886325 0.01949481 0.00747189 0.9459949  0.01817509]\n",
      " [0.01513046 0.05478936 0.00589113 0.90766627 0.01652271]\n",
      " [0.08039106 0.8214033  0.02327071 0.03135608 0.04357884]\n",
      " [0.16923258 0.61558944 0.01694427 0.04244472 0.15578902]\n",
      " [0.5547144  0.33986083 0.03537454 0.01889329 0.05115701]\n",
      " [0.00817107 0.02487961 0.43067238 0.50171053 0.03456644]\n",
      " [0.03800795 0.87264043 0.01827661 0.03362308 0.03745195]\n",
      " [0.04270689 0.85184056 0.02383657 0.02465405 0.05696191]\n",
      " [0.00599315 0.0138444  0.9215087  0.00492232 0.05373148]\n",
      " [0.0058031  0.01476457 0.92097914 0.01579715 0.04265603]\n",
      " [0.00599787 0.01439434 0.921219   0.00539468 0.05299421]\n",
      " [0.02975894 0.01621294 0.04123203 0.02547728 0.8873188 ]\n",
      " [0.01779729 0.01361396 0.01833422 0.9374933  0.01276111]\n",
      " [0.00917803 0.01853606 0.00570585 0.9481176  0.01846251]\n",
      " [0.00540375 0.01374414 0.9227067  0.00672987 0.05141561]\n",
      " [0.00772516 0.01268291 0.01531805 0.9501275  0.01414634]\n",
      " [0.00682674 0.01444538 0.01024659 0.9527079  0.01577345]\n",
      " [0.00807956 0.01316494 0.01481669 0.9505664  0.0133723 ]\n",
      " [0.08221992 0.04142484 0.07660716 0.6797692  0.11997882]\n",
      " [0.00771927 0.01750016 0.02798628 0.9344067  0.01238753]\n",
      " [0.281215   0.5978968  0.03851374 0.03864353 0.04373088]\n",
      " [0.00526541 0.01526954 0.00985498 0.95174164 0.01786843]\n",
      " [0.04176231 0.0126776  0.03366735 0.01395834 0.8979344 ]]\n",
      "(32,) [3 4 3 2 3 3 4 3 3 3 3 1 3 0 3 1 1 2 2 2 4 3 3 2 3 3 3 3 3 1 3 4]\n"
     ]
    }
   ],
   "source": [
    "\n",
    "\n",
    "for batch in val_ds.take(1).as_numpy_iterator():\n",
    "    X = batch[0]\n",
    "    y = batch[1]\n",
    "    y_pred = eff_model.predict(X)\n",
    "    np.mean(y_pred, axis = 0)\n",
    "    print(y_pred.shape, y_pred)\n",
    "    print(y.shape, y)\n"
   ]
  },
  {
   "cell_type": "code",
   "execution_count": null,
   "id": "522dd1ef",
   "metadata": {},
   "outputs": [],
   "source": [
    "from tensorflow.keras.models import load_model\n",
    "\n",
    "eff_model = load_model('../models/best_model/eff_model')"
   ]
  },
  {
   "cell_type": "code",
   "execution_count": 12,
   "id": "728dc92f",
   "metadata": {},
   "outputs": [],
   "source": [
    "eff_model.evaluate(val_ds)"
   ]
  },
  {
   "cell_type": "code",
   "execution_count": 13,
   "id": "736498e4",
   "metadata": {},
   "outputs": [],
   "source": [
    "# evaluate whole batchs to get error on multiple file uploads"
   ]
  },
  {
   "cell_type": "code",
   "execution_count": null,
   "id": "87587bd8",
   "metadata": {},
   "outputs": [],
   "source": []
  }
 ],
 "metadata": {
  "kernelspec": {
   "display_name": "Python 3 (ipykernel)",
   "language": "python",
   "name": "python3"
  },
  "language_info": {
   "codemirror_mode": {
    "name": "ipython",
    "version": 3
   },
   "file_extension": ".py",
   "mimetype": "text/x-python",
   "name": "python",
   "nbconvert_exporter": "python",
   "pygments_lexer": "ipython3",
   "version": "3.8.6"
  }
 },
 "nbformat": 4,
 "nbformat_minor": 5
}
